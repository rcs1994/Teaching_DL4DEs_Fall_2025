{
  "nbformat": 4,
  "nbformat_minor": 0,
  "metadata": {
    "colab": {
      "provenance": [],
      "authorship_tag": "ABX9TyMHfzYrFIYLWjRL2ryH7IbW",
      "include_colab_link": true
    },
    "kernelspec": {
      "name": "python3",
      "display_name": "Python 3"
    },
    "language_info": {
      "name": "python"
    }
  },
  "cells": [
    {
      "cell_type": "markdown",
      "metadata": {
        "id": "view-in-github",
        "colab_type": "text"
      },
      "source": [
        "<a href=\"https://colab.research.google.com/github/rcs1994/Teaching_DL4DEs_Fall_2025/blob/main/NumericsODEs_EulerMethod.ipynb\" target=\"_parent\"><img src=\"https://colab.research.google.com/assets/colab-badge.svg\" alt=\"Open In Colab\"/></a>"
      ]
    },
    {
      "cell_type": "markdown",
      "source": [
        "# First Order Initial Value Problem\n",
        "\n",
        "\n",
        "The more general form of a first order Ordinary Differential Equation is:\n",
        "\\begin{equation}\n",
        "y^{'}=f(t,y).\n",
        "\\end{equation}\n",
        "This can be solved analytically by integrating both sides but this is not straight forward for most problems.\n",
        "Numerical methods can be used to approximate the solution at discrete points."
      ],
      "metadata": {
        "id": "bZPnjv74pWK4"
      }
    },
    {
      "cell_type": "markdown",
      "source": [
        "## Euler method\n",
        "\n",
        "The simplest one step numerical method is the Euler Method named after the most prolific of mathematicians [Leonhard Euler](https://en.wikipedia.org/wiki/Leonhard_Euler) (15 April 1707 – 18 September 1783) .\n",
        "\n",
        "The general Euler formula for the first order differential equation\n",
        "\\begin{equation}\n",
        "y^{'} = f(t,y),\n",
        "\\end{equation}\n",
        "\n",
        "approximates the derivative at time point $t_i$,\n",
        "\n",
        "\\begin{equation}\n",
        "y^{'}(t_i) \\approx \\frac{w_{i+1}-w_i}{t_{i+1}-t_{i}},\n",
        "\\end{equation}\n",
        "\n",
        "where $w_i$ is the approximate solution of $y$ at time $t_i$.\n",
        "\n",
        "This substitution changes the differential equation  into a __difference__ equation of the form\n",
        "\n",
        "\\begin{equation}\n",
        "\\frac{w_{i+1}-w_i}{t_{i+1}-t_{i}}=f(t_i,w_i).\n",
        "\\end{equation}\n",
        "\n",
        "Assuming uniform stepsize $t_{i+1}-t_{i}$ is replaced by $h$, re-arranging the equation gives\n",
        "\\begin{equation}\n",
        "w_{i+1}=w_i+hf(t_i,w_i).\n",
        "\\end{equation}\n",
        " This can be read as the future $w_{i+1}$ can be approximated by the present $w_i$ and the addition of the input to the system $f(t,y)$ times the time step."
      ],
      "metadata": {
        "id": "Yt98Hm4fpZ1u"
      }
    },
    {
      "cell_type": "code",
      "execution_count": null,
      "metadata": {
        "id": "voW4YzJmofwo"
      },
      "outputs": [],
      "source": [
        "## Library\n",
        "import numpy as np\n",
        "import math\n",
        "import pandas as pd\n",
        "%matplotlib inline\n",
        "import matplotlib.pyplot as plt # side-stepping mpl backend\n",
        "import matplotlib.gridspec as gridspec # subplots\n",
        "import warnings\n",
        "\n",
        "warnings.filterwarnings(\"ignore\")"
      ]
    },
    {
      "cell_type": "markdown",
      "source": [
        "## Population growth\n",
        "\n",
        "The general form of the population growth differential equation is:\n",
        "\\begin{equation}\n",
        "y^{'}=\\epsilon y\n",
        "\\end{equation}\n",
        "where $\\epsilon$ is the growth rate. The initial population at time $a$ is\n",
        "\\begin{equation}\n",
        "y(a)=A,\n",
        " \\end{equation}\n",
        "\\begin{equation}\n",
        " a\\leq t \\leq b.\n",
        "\\end{equation}\n",
        "Integrating gives  the general analytic (exact) solution:\n",
        "\\begin{equation}\n",
        " y=Ae^{\\epsilon x}.\n",
        "\\end{equation}\n",
        "We will use this equation to illustrate the application of the Euler method.\n",
        "      \n",
        "## Discrete Interval\n",
        "The continuous time $a\\leq t \\leq b $ is discretised into $N$ intervals by a constant stepsize\n",
        "\\begin{equation}\n",
        "h=\\frac{b-a}{N}.\n",
        "\\end{equation}\n",
        "Here the interval is $0\\leq t \\leq 2$ is discretised into $20$ intervals with stepsize\n",
        "\\begin{equation}\n",
        " h=\\frac{2-0}{20}=0.1,\n",
        "\\end{equation}\n",
        "this gives the 21 discrete points:\n",
        "\\begin{equation}\n",
        " t_0=0, \\ t_1=0.1, \\ ... t_{20}=2.\n",
        "\\end{equation}\n",
        "This is generalised to\n",
        "\\begin{equation}\n",
        "t_i=0+i0.1, \\ \\ \\ i=0,1,...,20.\n",
        "\\end{equation}\n",
        "The plot below shows the discrete time steps."
      ],
      "metadata": {
        "id": "RiMQe3VJpwiS"
      }
    },
    {
      "cell_type": "code",
      "source": [
        "### Setting up time\n",
        "t_end=2.0\n",
        "t_start=0\n",
        "N=20\n",
        "h=(t_end-t_start)/(N)\n",
        "time=np.arange(t_start,t_end+0.01,h)\n",
        "fig = plt.figure(figsize=(10,4))\n",
        "plt.plot(time,0*time,'o:',color='red')\n",
        "plt.xlim((0,2))\n",
        "plt.title('Illustration of discrete time points for h=%s'%(h))\n",
        "plt.plot();"
      ],
      "metadata": {
        "colab": {
          "base_uri": "https://localhost:8080/",
          "height": 391
        },
        "id": "78B9bxreo97L",
        "outputId": "f72164cc-b63e-4151-f5cc-00efdc21374e"
      },
      "execution_count": null,
      "outputs": [
        {
          "output_type": "display_data",
          "data": {
            "text/plain": [
              "<Figure size 1000x400 with 1 Axes>"
            ],
            "image/png": "[encoded data removed]"
          },
          "metadata": {}
        }
      ]
    },
    {
      "cell_type": "markdown",
      "source": [
        "## Initial Condition\n",
        "To get a specify solution to a first order initial value problem, an __initial condition__ is required.\n",
        "\n",
        "For our population problem the intial condition is:\n",
        "\\begin{equation}\n",
        "y(0)=10.\n",
        "\\end{equation}\n",
        "This gives the analytic solution\n",
        "\\begin{equation}\n",
        "y=10e^{\\epsilon t}.\n",
        "\\end{equation}\n",
        "### Growth rate\n",
        "Let the growth rate\n",
        "\\begin{equation}\n",
        "\\epsilon=0.5\n",
        "\\end{equation}\n",
        "giving the analytic solution.\n",
        "\\begin{equation}\n",
        "y=10e^{0.5 t}.\n",
        "\\end{equation}\n",
        "The plot below shows the exact solution on the discrete time steps."
      ],
      "metadata": {
        "id": "UxcDy80Ctc13"
      }
    }
  ]
}