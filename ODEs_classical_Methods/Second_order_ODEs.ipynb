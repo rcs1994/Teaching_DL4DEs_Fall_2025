{
  "nbformat": 4,
  "nbformat_minor": 0,
  "metadata": {
    "kernelspec": {
      "display_name": "Python 3",
      "language": "python",
      "name": "python3"
    },
    "language_info": {
      "codemirror_mode": {
        "name": "ipython",
        "version": 3
      },
      "file_extension": ".py",
      "mimetype": "text/x-python",
      "name": "python",
      "nbconvert_exporter": "python",
      "pygments_lexer": "ipython3",
      "version": "3.7.9"
    },
    "colab": {
      "name": "603_Boundary Value Problem.ipynb",
      "provenance": []
    }
  },
  "cells": [
    {
      "cell_type": "markdown",
      "metadata": {
        "id": "3PVzV05GzGnN"
      },
      "source": [
        "# Finite Difference Method\n"
      ]
    },
    {
      "cell_type": "markdown",
      "metadata": {
        "id": "h4ZbgVquzGnS"
      },
      "source": [
        "## Introduction\n",
        "To numerically approximate a linear Boundary Value Problem\n",
        "\\begin{equation}\n",
        "y^{''}=f(t,y,y^{'}), \\ \\ \\ a < t < b, \\end{equation}\n",
        "with the boundary conditions\n",
        "\\begin{equation}y(a)=\\alpha,\\end{equation} and\n",
        "\\begin{equation}y(b) =\\beta.\\end{equation}\n",
        "The second derivative can be approximated by:\n",
        "\\begin{equation}D^{2}U_{i}=\\frac{U_{i+1}-2U_{i}+U_{i-1}}{h^2}. \\end{equation}\n",
        "\n",
        "### Example Boundary Value Problem\n",
        "To illustrate the method we will apply the finite difference method to the this boundary value problem\n",
        "\\begin{equation}  \\frac{d^2 y}{dt^2} = 4y,\\end{equation}\n",
        "with the boundary conditions\n",
        "\\begin{equation} y(0)=1.1752,  y(1)=10.0179. \\end{equation}"
      ]
    },
    {
      "cell_type": "code",
      "metadata": {
        "id": "6oqtuHXLzGnT"
      },
      "source": [
        "import numpy as np\n",
        "import math\n",
        "import matplotlib.pyplot as plt\n",
        "import warnings\n",
        "warnings.filterwarnings(\"ignore\")"
      ],
      "execution_count": 36,
      "outputs": []
    },
    {
      "cell_type": "markdown",
      "metadata": {
        "id": "UAqWYzFpzGnT"
      },
      "source": [
        "## Discrete Axis\n",
        "The stepsize is defined as\n",
        "\\begin{equation}h=\\frac{b-a}{N}\\end{equation}\n",
        "here it is\n",
        "\\begin{equation}h=\\frac{1-0}{10}\\end{equation}\n",
        "giving\n",
        "\\begin{equation}x_i=0+0.1 i\\end{equation}\n",
        "for $i=0,1,...10.$"
      ]
    },
    {
      "cell_type": "code",
      "metadata": {
        "id": "P5VZ6dXEzGnT",
        "outputId": "5aac0196-5446-4cb3-b34e-a5b949726859",
        "colab": {
          "base_uri": "https://localhost:8080/",
          "height": 437
        }
      },
      "source": [
        "## BVP\n",
        "N= 10\n",
        "h=1/N\n",
        "x=np.linspace(0,1,N+1)\n",
        "fig = plt.figure(figsize=(10,4))\n",
        "plt.plot(x,0*x,'o:',color='red')\n",
        "plt.plot(x[0],0,'o:',color='green')\n",
        "plt.plot(x[10],0,'o:',color='green')\n",
        "\n",
        "\n",
        "plt.xlim((0,1))\n",
        "plt.xlabel('x',fontsize=16)\n",
        "plt.title('Illustration of discrete time points for h=%s'%(h),fontsize=32)\n",
        "plt.show()"
      ],
      "execution_count": 37,
      "outputs": [
        {
          "output_type": "display_data",
          "data": {
            "text/plain": [
              "<Figure size 1000x400 with 1 Axes>"
            ],
            "image/png": "[encoded data removed]"
          },
          "metadata": {}
        }
      ]
    },
    {
      "cell_type": "markdown",
      "metadata": {
        "id": "SCyN-xGqzGnU"
      },
      "source": [
        "## The Difference Equation\n",
        "To convert the boundary problem into a difference equation we use 1st and 2nd order difference operators.\n",
        "The general difference equation is\n",
        "\\begin{equation} \\frac{1}{h^2}\\left(y_{i-1}-2y_i+y_{i+1}\\right)=4y_i \\ \\ \\ i=1,..,N-1. \\end{equation}\n",
        "\n",
        "Rearranging the equation we have the system of N-1 equations\n",
        "\\begin{equation}i=1: \\frac{1}{0.1^2}\\color{green}{y_{0}} -\\left(\\frac{2}{0.1^2}+4\\right)y_1 +\\frac{1}{0.1^2} y_{2}=0\\end{equation}\n",
        "\\begin{equation}i=2: \\frac{1}{0.1^2}y_{1} -\\left(\\frac{2}{0.1^2}+4\\right)y_2 +\\frac{1}{0.1^2} y_{3}=0\\end{equation}\n",
        "\\begin{equation} ...\\end{equation}\n",
        "\\begin{equation}i=8: \\frac{1}{0.1^2}y_{7} -\\left(\\frac{2}{0.1^2}+4\\right)y_8 +\\frac{1}{0.1^2} y_{9}=0\\end{equation}\n",
        "\\begin{equation}i=9: \\frac{1}{0.1^2}y_{8} -\\left(\\frac{2}{0.1^2}+4\\right)y_9 +\\frac{1}{0.1^2} \\color{green}{y_{10}}=0\\end{equation}\n",
        "where the green terms are the known boundary conditions.\n",
        "\n",
        "Rearranging the equation we have the system of 9 equations\n",
        "\\begin{equation}i=1:  -\\left(\\frac{2}{0.1^2}+4\\right)y_1 +\\frac{1}{0.1^2} y_{2}=-\\frac{1}{0.1^2}\\color{green}{y_{0}}\\end{equation}\n",
        "\\begin{equation}i=2: \\frac{1}{0.1^2}y_{1} -\\left(\\frac{2}{0.1^2}+4\\right)y_2 +\\frac{1}{0.1^2} y_{3}=0\\end{equation}\n",
        "\\begin{equation} ...\\end{equation}\n",
        "\\begin{equation}i=8: \\frac{1}{0.1^2}y_{7} -\\left(\\frac{2}{0.1^2}+4\\right)y_8 +\\frac{1}{0.1^2} y_{9}=0\\end{equation}\n",
        "\\begin{equation}i=9: \\frac{1}{0.1^2}y_{8} -\\left(\\frac{2}{0.1^2}+4\\right)y_9 =-\\frac{1}{0.1^2} \\color{green}{y_{10}}\\end{equation}\n",
        "where the green terms are the known boundary conditions.\n",
        "This is system can be put into matrix form\n",
        "\\begin{equation}  A\\color{red}{\\mathbf{y}}=\\mathbf{b} \\end{equation}\n",
        "Where A is a $9\\times 9 $ matrix of the form\n",
        "\\begin{equation}\n",
        "A=\\left(\\begin{array}{ccc ccc ccc}\n",
        "-204&100&0& 0&0&0& 0&0&0\\\\\n",
        "100&-204&100 &0&0&0& 0&0&0\\\\\n",
        "0&100&-204& 100&0&0& 0&0&0\\\\\n",
        ".&.&.& .&.&.& .&.&.\\\\\n",
        ".&.&.& .&.&.& .&.&.\\\\\n",
        "0&0&0& 0&0&0& 100&-204&100\\\\\n",
        "0&0&0& 0&0&0& 0&100&-204\n",
        "\\end{array}\\right)\n",
        "\\end{equation}\n",
        "which can be represented graphically as:"
      ]
    },
    {
      "cell_type": "code",
      "metadata": {
        "id": "uLh1lBRjzGnV",
        "outputId": "b1a2d790-7ca5-4653-807e-2d8b9f4ccfb0",
        "colab": {
          "base_uri": "https://localhost:8080/"
        }
      },
      "source": [
        "A=np.zeros((N-1,N-1))\n",
        "# Diagonal\n",
        "for i in range (0,N-1):\n",
        "    A[i,i]=-(2/(h*h)+4)\n",
        "\n",
        "for i in range (0,N-2):\n",
        "    A[i+1,i]=1/(h*h)\n",
        "    A[i,i+1]=1/(h*h)\n",
        "\n",
        "\n",
        "print(A)\n",
        "\n",
        "\n",
        "\n",
        "# plt.imshow(A)\n",
        "# plt.xlabel('i',fontsize=16)\n",
        "# plt.ylabel('j',fontsize=16)\n",
        "# plt.yticks(np.arange(N-1), np.arange(1,N-0.9,1))\n",
        "# plt.xticks(np.arange(N-1), np.arange(1,N-0.9,1))\n",
        "# clb=plt.colorbar()\n",
        "# clb.set_label('Matrix value')\n",
        "# plt.title('Matrix A',fontsize=32)\n",
        "# plt.tight_layout()\n",
        "# plt.subplots_adjust()\n",
        "# plt.show()"
      ],
      "execution_count": 38,
      "outputs": [
        {
          "output_type": "stream",
          "name": "stdout",
          "text": [
            "[[-204.  100.    0.    0.    0.    0.    0.    0.    0.]\n",
            " [ 100. -204.  100.    0.    0.    0.    0.    0.    0.]\n",
            " [   0.  100. -204.  100.    0.    0.    0.    0.    0.]\n",
            " [   0.    0.  100. -204.  100.    0.    0.    0.    0.]\n",
            " [   0.    0.    0.  100. -204.  100.    0.    0.    0.]\n",
            " [   0.    0.    0.    0.  100. -204.  100.    0.    0.]\n",
            " [   0.    0.    0.    0.    0.  100. -204.  100.    0.]\n",
            " [   0.    0.    0.    0.    0.    0.  100. -204.  100.]\n",
            " [   0.    0.    0.    0.    0.    0.    0.  100. -204.]]\n"
          ]
        }
      ]
    },
    {
      "cell_type": "markdown",
      "metadata": {
        "id": "B83IhPeqzGnW"
      },
      "source": [
        "$\\mathbf{y}$ is the unknown vector which is contains the numerical approximations of the $y$.\n",
        "$$\n",
        "\\color{red}{\\mathbf{y}}=\\color{red}{\n",
        "\\left(\\begin{array}{c} y_1\\\\\n",
        "y_2\\\\\n",
        "y_3\\\\\n",
        ".\\\\\n",
        ".\\\\\n",
        "y_8\\\\\n",
        "y_9\n",
        "\\end{array}\\right).}\n",
        "\\end{equation}"
      ]
    },
    {
      "cell_type": "markdown",
      "source": [],
      "metadata": {
        "id": "Z9A9bbLHutvu"
      }
    },
    {
      "cell_type": "code",
      "metadata": {
        "id": "FFK-dSNEzGnX"
      },
      "source": [
        "y=np.zeros((N+1))\n",
        "# Boundary Condition\n",
        "y[0]=1.1752\n",
        "y[N]=10.0179"
      ],
      "execution_count": 39,
      "outputs": []
    },
    {
      "cell_type": "markdown",
      "metadata": {
        "id": "V6wxbAJDzGnX"
      },
      "source": [
        "and the known right hand side is a known $9\\times 1$ vector with the boundary conditions\n",
        "\\begin{equation}\n",
        "\\mathbf{b}=\\left(\\begin{array}{c}-117.52\\\\\n",
        "0\\\\\n",
        "0\\\\\n",
        ".\\\\\n",
        ".\\\\\n",
        "0\\\\\n",
        "-1001.79 \\end{array}\\right)\n",
        "\\end{equation}\n"
      ]
    },
    {
      "cell_type": "code",
      "metadata": {
        "id": "tY-oHTqKzGnY"
      },
      "source": [
        "b=np.zeros(N-1)\n",
        "\n",
        "# Boundary Condition\n",
        "b[0]=-y[0]/(h*h)\n",
        "b[N-2]=-y[N]/(h*h)\n"
      ],
      "execution_count": 40,
      "outputs": []
    },
    {
      "cell_type": "code",
      "metadata": {
        "id": "GNnf439YzGnY"
      },
      "source": [],
      "execution_count": 40,
      "outputs": []
    },
    {
      "cell_type": "markdown",
      "metadata": {
        "id": "bTAMK-aRzGnY"
      },
      "source": [
        "## Solving the system\n",
        "To solve invert the matrix $A$ such that\n",
        "\\begin{equation}y=A^{-1}b\\end{equation}"
      ]
    },
    {
      "cell_type": "code",
      "metadata": {
        "id": "hV9Lg7MszGnZ"
      },
      "source": [
        "invA=np.linalg.inv(A)\n",
        "\n",
        "\n",
        "y[1:N]=np.dot(invA,b)"
      ],
      "execution_count": 41,
      "outputs": []
    },
    {
      "cell_type": "markdown",
      "metadata": {
        "id": "NsRusA4jzGnZ"
      },
      "source": [
        "## Result\n",
        "The plot below shows the approximate solution of the Boundary Value Problem (blue v) and the exact solution (black dashed line)."
      ]
    },
    {
      "cell_type": "code",
      "metadata": {
        "id": "128hQge_zGnZ",
        "outputId": "b9dc32a1-6652-4cb5-cfaa-eceb8fbdb28b",
        "colab": {
          "base_uri": "https://localhost:8080/",
          "height": 388
        }
      },
      "source": [
        "fig = plt.figure(figsize=(8,4))\n",
        "\n",
        "plt.plot(x,y,'v',label='Finite Difference')\n",
        "plt.plot(x,np.sinh(2*x+1),'k:',label='exact')\n",
        "plt.xlabel('x')\n",
        "plt.ylabel('y')\n",
        "#plt.xlim((0.4, 0.6))\n",
        "plt.legend(loc='best')\n",
        "plt.show()"
      ],
      "execution_count": 42,
      "outputs": [
        {
          "output_type": "display_data",
          "data": {
            "text/plain": [
              "<Figure size 800x400 with 1 Axes>"
            ],
            "image/png": "[encoded data removed]"
          },
          "metadata": {}
        }
      ]
    },
    {
      "cell_type": "code",
      "metadata": {
        "id": "YmzSZaQKzGna"
      },
      "source": [],
      "execution_count": 42,
      "outputs": []
    },
    {
      "cell_type": "code",
      "metadata": {
        "id": "hqk1z_AYzGna"
      },
      "source": [],
      "execution_count": 42,
      "outputs": []
    },
    {
      "cell_type": "code",
      "metadata": {
        "id": "GD6aqWYEzGna"
      },
      "source": [],
      "execution_count": 42,
      "outputs": []
    }
  ]
}